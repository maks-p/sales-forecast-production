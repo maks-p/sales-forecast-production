{
 "cells": [
  {
   "cell_type": "code",
   "execution_count": 29,
   "metadata": {},
   "outputs": [],
   "source": [
    "import pandas as pd\n",
    "from datetime import date"
   ]
  },
  {
   "cell_type": "code",
   "execution_count": 30,
   "metadata": {},
   "outputs": [],
   "source": [
    "from venue import Venue\n",
    "from location import get_lat_long"
   ]
  },
  {
   "cell_type": "code",
   "execution_count": 31,
   "metadata": {},
   "outputs": [],
   "source": [
    "venue = Venue('Jupiter Disco', 'Brooklyn, NY')"
   ]
  },
  {
   "cell_type": "code",
   "execution_count": 32,
   "metadata": {},
   "outputs": [],
   "source": [
    "start_date = '2019-07-01'\n",
    "end_date = '2019-07-31'\n",
    "today = date.today().strftime('%Y-%m-%d')"
   ]
  },
  {
   "cell_type": "code",
   "execution_count": 33,
   "metadata": {},
   "outputs": [],
   "source": [
    "daily = venue.daily_weather(today)"
   ]
  },
  {
   "cell_type": "code",
   "execution_count": 34,
   "metadata": {},
   "outputs": [],
   "source": [
    "df = venue.weather_dataframe(start_date, end_date)"
   ]
  },
  {
   "cell_type": "code",
   "execution_count": 35,
   "metadata": {},
   "outputs": [
    {
     "data": {
      "text/plain": [
       "{'date': '2019-09-05',\n",
       " 'temperature': 74.65,\n",
       " 'apparent_temperature': 74.65,\n",
       " 'humidity': 0.53,\n",
       " 'precip_intensity_max': 0.0017,\n",
       " 'precip_type': 'rain',\n",
       " 'precip_prob': 0.0,\n",
       " 'pressure': 1017.77,\n",
       " 'summary': 'cloudy',\n",
       " 'precip_max_time': '09:00PM'}"
      ]
     },
     "execution_count": 35,
     "metadata": {},
     "output_type": "execute_result"
    }
   ],
   "source": [
    "daily"
   ]
  },
  {
   "cell_type": "code",
   "execution_count": 36,
   "metadata": {},
   "outputs": [
    {
     "data": {
      "text/html": [
       "<div>\n",
       "<style scoped>\n",
       "    .dataframe tbody tr th:only-of-type {\n",
       "        vertical-align: middle;\n",
       "    }\n",
       "\n",
       "    .dataframe tbody tr th {\n",
       "        vertical-align: top;\n",
       "    }\n",
       "\n",
       "    .dataframe thead th {\n",
       "        text-align: right;\n",
       "    }\n",
       "</style>\n",
       "<table border=\"1\" class=\"dataframe\">\n",
       "  <thead>\n",
       "    <tr style=\"text-align: right;\">\n",
       "      <th></th>\n",
       "      <th>apparent_temperature</th>\n",
       "      <th>humidity</th>\n",
       "      <th>precip_intensity_max</th>\n",
       "      <th>precip_max_time</th>\n",
       "      <th>precip_prob</th>\n",
       "      <th>precip_type</th>\n",
       "      <th>pressure</th>\n",
       "      <th>summary</th>\n",
       "      <th>temperature</th>\n",
       "    </tr>\n",
       "    <tr>\n",
       "      <th>date</th>\n",
       "      <th></th>\n",
       "      <th></th>\n",
       "      <th></th>\n",
       "      <th></th>\n",
       "      <th></th>\n",
       "      <th></th>\n",
       "      <th></th>\n",
       "      <th></th>\n",
       "      <th></th>\n",
       "    </tr>\n",
       "  </thead>\n",
       "  <tbody>\n",
       "    <tr>\n",
       "      <th>2019-07-01</th>\n",
       "      <td>82.34</td>\n",
       "      <td>0.39</td>\n",
       "      <td>0.0000</td>\n",
       "      <td>05:01AM</td>\n",
       "      <td>0.0</td>\n",
       "      <td>none</td>\n",
       "      <td>1011.48</td>\n",
       "      <td>partly-cloudy-day</td>\n",
       "      <td>82.34</td>\n",
       "    </tr>\n",
       "    <tr>\n",
       "      <th>2019-07-02</th>\n",
       "      <td>85.61</td>\n",
       "      <td>0.56</td>\n",
       "      <td>0.0007</td>\n",
       "      <td>07:00PM</td>\n",
       "      <td>0.0</td>\n",
       "      <td>rain</td>\n",
       "      <td>1007.59</td>\n",
       "      <td>partly-cloudy-day</td>\n",
       "      <td>83.31</td>\n",
       "    </tr>\n",
       "    <tr>\n",
       "      <th>2019-07-03</th>\n",
       "      <td>85.18</td>\n",
       "      <td>0.60</td>\n",
       "      <td>0.0027</td>\n",
       "      <td>03:00PM</td>\n",
       "      <td>0.0</td>\n",
       "      <td>rain</td>\n",
       "      <td>1011.35</td>\n",
       "      <td>partly-cloudy-day</td>\n",
       "      <td>82.52</td>\n",
       "    </tr>\n",
       "    <tr>\n",
       "      <th>2019-07-04</th>\n",
       "      <td>81.97</td>\n",
       "      <td>0.67</td>\n",
       "      <td>0.0003</td>\n",
       "      <td>01:00PM</td>\n",
       "      <td>0.0</td>\n",
       "      <td>rain</td>\n",
       "      <td>1018.80</td>\n",
       "      <td>clear-day</td>\n",
       "      <td>79.58</td>\n",
       "    </tr>\n",
       "    <tr>\n",
       "      <th>2019-07-05</th>\n",
       "      <td>79.05</td>\n",
       "      <td>0.83</td>\n",
       "      <td>0.0014</td>\n",
       "      <td>07:00PM</td>\n",
       "      <td>0.0</td>\n",
       "      <td>rain</td>\n",
       "      <td>1018.74</td>\n",
       "      <td>partly-cloudy-day</td>\n",
       "      <td>77.69</td>\n",
       "    </tr>\n",
       "  </tbody>\n",
       "</table>\n",
       "</div>"
      ],
      "text/plain": [
       "            apparent_temperature  humidity  precip_intensity_max  \\\n",
       "date                                                               \n",
       "2019-07-01                 82.34      0.39                0.0000   \n",
       "2019-07-02                 85.61      0.56                0.0007   \n",
       "2019-07-03                 85.18      0.60                0.0027   \n",
       "2019-07-04                 81.97      0.67                0.0003   \n",
       "2019-07-05                 79.05      0.83                0.0014   \n",
       "\n",
       "           precip_max_time  precip_prob precip_type  pressure  \\\n",
       "date                                                            \n",
       "2019-07-01         05:01AM          0.0        none   1011.48   \n",
       "2019-07-02         07:00PM          0.0        rain   1007.59   \n",
       "2019-07-03         03:00PM          0.0        rain   1011.35   \n",
       "2019-07-04         01:00PM          0.0        rain   1018.80   \n",
       "2019-07-05         07:00PM          0.0        rain   1018.74   \n",
       "\n",
       "                      summary  temperature  \n",
       "date                                        \n",
       "2019-07-01  partly-cloudy-day        82.34  \n",
       "2019-07-02  partly-cloudy-day        83.31  \n",
       "2019-07-03  partly-cloudy-day        82.52  \n",
       "2019-07-04          clear-day        79.58  \n",
       "2019-07-05  partly-cloudy-day        77.69  "
      ]
     },
     "execution_count": 36,
     "metadata": {},
     "output_type": "execute_result"
    }
   ],
   "source": [
    "df.head()"
   ]
  },
  {
   "cell_type": "code",
   "execution_count": null,
   "metadata": {},
   "outputs": [],
   "source": []
  }
 ],
 "metadata": {
  "kernelspec": {
   "display_name": "Python 3",
   "language": "python",
   "name": "python3"
  },
  "language_info": {
   "codemirror_mode": {
    "name": "ipython",
    "version": 3
   },
   "file_extension": ".py",
   "mimetype": "text/x-python",
   "name": "python",
   "nbconvert_exporter": "python",
   "pygments_lexer": "ipython3",
   "version": "3.7.3"
  }
 },
 "nbformat": 4,
 "nbformat_minor": 4
}
